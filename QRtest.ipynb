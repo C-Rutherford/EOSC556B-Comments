{
 "cells": [
  {
   "cell_type": "code",
   "execution_count": 1,
   "id": "0ae97e79-5755-4989-91b5-24ac8a672762",
   "metadata": {},
   "outputs": [],
   "source": [
    "import Random; Random.seed!(1234)\n",
    "using LinearAlgebra"
   ]
  },
  {
   "cell_type": "code",
   "execution_count": 2,
   "id": "39a22188-b6f3-454a-bf08-1a458ef573f0",
   "metadata": {},
   "outputs": [
    {
     "data": {
      "text/plain": [
       "400×3 Matrix{Float64}:\n",
       " 0.0          1.0       1.0\n",
       " 5.65312e-5   0.999943  1.0\n",
       " 0.000226112  0.999774  1.0\n",
       " 0.000508704  0.999491  1.0\n",
       " 0.000904244  0.999096  1.0\n",
       " 0.00141264   0.998587  1.0\n",
       " 0.00203378   0.997966  1.0\n",
       " 0.00276753   0.997232  1.0\n",
       " 0.00361371   0.996386  1.0\n",
       " 0.00457213   0.995428  1.0\n",
       " 0.00564259   0.994357  1.0\n",
       " 0.00682483   0.993175  1.0\n",
       " 0.00811859   0.991881  1.0\n",
       " ⋮                      \n",
       " 0.0494722    0.950528  1.0\n",
       " 0.0462623    0.953738  1.0\n",
       " 0.043155     0.956845  1.0\n",
       " 0.0401511    0.959849  1.0\n",
       " 0.0372511    0.962749  1.0\n",
       " 0.0344557    0.965544  1.0\n",
       " 0.0317657    0.968234  1.0\n",
       " 0.0291815    0.970819  1.0\n",
       " 0.0267038    0.973296  1.0\n",
       " 0.0243331    0.975667  1.0\n",
       " 0.0220699    0.97793   1.0\n",
       " 0.0199149    0.980085  1.0"
      ]
     },
     "execution_count": 2,
     "metadata": {},
     "output_type": "execute_result"
    }
   ],
   "source": [
    "θ = LinRange(0,3,400)\n",
    "ε = 1e-7\n",
    "A = @. [sin(θ)^2   cos(θ+ε)^2   θ^0]"
   ]
  },
  {
   "cell_type": "code",
   "execution_count": 3,
   "id": "a15f102c-c8ff-4c36-8d54-3ef4ba547663",
   "metadata": {},
   "outputs": [
    {
     "data": {
      "text/plain": [
       "true"
      ]
     },
     "execution_count": 3,
     "metadata": {},
     "output_type": "execute_result"
    }
   ],
   "source": [
    "rank(A) == size(A,2)"
   ]
  },
  {
   "cell_type": "code",
   "execution_count": 4,
   "id": "ae7c0b7c-cdf0-486a-99fd-4a17dc12f68d",
   "metadata": {},
   "outputs": [
    {
     "data": {
      "text/plain": [
       "400-element Vector{Float64}:\n",
       " 2.99999999999998\n",
       " 2.999943465749653\n",
       " 2.9997738817972888\n",
       " 2.999491286490054\n",
       " 2.9990957437298036\n",
       " 2.998587342958633\n",
       " 2.9979661991386535\n",
       " 2.997232452725993\n",
       " 2.9963862696390384\n",
       " 2.9954278412209163\n",
       " 2.994357384196226\n",
       " 2.9931751406220304\n",
       " 2.9918813778331264\n",
       " ⋮\n",
       " 2.9505279238007867\n",
       " 2.9537377884920883\n",
       " 2.956845051738814\n",
       " 2.9598490109111495\n",
       " 2.962748986738913\n",
       " 2.9655443234651533\n",
       " 2.9682343889944303\n",
       " 2.9708185750357545\n",
       " 2.973296297240129\n",
       " 2.9756669953326904\n",
       " 2.9779301332393997\n",
       " 2.9800851992082635"
      ]
     },
     "execution_count": 4,
     "metadata": {},
     "output_type": "execute_result"
    }
   ],
   "source": [
    "xᵉ = [1., 2., 1.]\n",
    "b  = A*xᵉ "
   ]
  },
  {
   "cell_type": "code",
   "execution_count": 5,
   "id": "eb0c331f-fa11-4719-a634-6cf74bc9df6f",
   "metadata": {},
   "outputs": [
    {
     "name": "stdout",
     "output_type": "stream",
     "text": [
      "xⁿ = [1.081081081027431, 2.0810810812460643, 0.918918918918919]\n",
      "eⁿ = 0.05733298228461017\n"
     ]
    }
   ],
   "source": [
    "xⁿ = A'A \\ A'b\n",
    "eⁿ = norm(xᵉ - xⁿ) / norm(xᵉ)\n",
    "@show xⁿ\n",
    "@show eⁿ;"
   ]
  },
  {
   "cell_type": "code",
   "execution_count": 6,
   "id": "53ef9f31-4a30-4db1-9666-01ad78eae558",
   "metadata": {},
   "outputs": [
    {
     "name": "stdout",
     "output_type": "stream",
     "text": [
      "xᵇ = [0.9999999998372602, 1.9999999998372604, 1.0000000001627405]\n",
      "eᵇ = 1.1507453610876192e-10\n"
     ]
    }
   ],
   "source": [
    "xᵇ = A \\ b\n",
    "eᵇ = norm(xᵉ - xᵇ) / norm(xᵉ)\n",
    "\n",
    "@show xᵇ\n",
    "@show eᵇ;"
   ]
  },
  {
   "cell_type": "code",
   "execution_count": 7,
   "id": "d716b125-6d37-4978-8e33-87fee49713e8",
   "metadata": {},
   "outputs": [
    {
     "name": "stdout",
     "output_type": "stream",
     "text": [
      "xⁿ = [1.111492912081838, 2.1114929123824733, 0.8885070878443901]\n",
      "eⁿ = 0.07883739427555181\n"
     ]
    }
   ],
   "source": [
    "H = A'A\n",
    "Rhs = A'b\n",
    "Q,R = qr(H)\n",
    "Q = Matrix(Q)\n",
    "xⁿ = R\\ Q'Rhs\n",
    "eⁿ = norm(xᵉ - xⁿ) / norm(xᵉ)\n",
    "@show xⁿ\n",
    "@show eⁿ;"
   ]
  },
  {
   "cell_type": "code",
   "execution_count": 8,
   "id": "d77d4a8f-b0e3-415b-9548-26b08a31ba5f",
   "metadata": {},
   "outputs": [
    {
     "name": "stdout",
     "output_type": "stream",
     "text": [
      "xᵇ = [1.000000001308193, 2.000000001308192, 0.9999999986918078]\n",
      "eᵇ = 1.1507453610876192e-10\n"
     ]
    }
   ],
   "source": [
    "xᵇ = A \\ b\n",
    "eᵇ = norm(xᵉ - xᵇ) / norm(xᵉ)\n",
    "Q,R = qr(A)\n",
    "Q = Matrix(Q)\n",
    "xᵇ = R\\ Q'b\n",
    "eⁿ = norm(xᵉ - xᵇ) / norm(xᵉ)\n",
    "@show xᵇ\n",
    "@show eᵇ;"
   ]
  },
  {
   "cell_type": "code",
   "execution_count": null,
   "id": "e683edca-e1f3-4855-9937-c36484dbbdf4",
   "metadata": {},
   "outputs": [],
   "source": []
  }
 ],
 "metadata": {
  "kernelspec": {
   "display_name": "Julia 1.10.0",
   "language": "julia",
   "name": "julia-1.10"
  },
  "language_info": {
   "file_extension": ".jl",
   "mimetype": "application/julia",
   "name": "julia",
   "version": "1.10.0"
  }
 },
 "nbformat": 4,
 "nbformat_minor": 5
}
